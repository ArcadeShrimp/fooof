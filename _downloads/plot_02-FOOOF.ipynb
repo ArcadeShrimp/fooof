{
  "cells": [
    {
      "cell_type": "code",
      "execution_count": null,
      "metadata": {
        "collapsed": false
      },
      "outputs": [],
      "source": [
        "%matplotlib inline"
      ]
    },
    {
      "cell_type": "markdown",
      "metadata": {},
      "source": [
        "\n02: FOOOF\n=========\n\n"
      ]
    },
    {
      "cell_type": "markdown",
      "metadata": {},
      "source": [
        "FOOOF (fitting oscillations & one over f) is a module to fit neural power spectra. This tutorial covers the fundamentals of the FOOOF codebase.\n\n\n"
      ]
    },
    {
      "cell_type": "code",
      "execution_count": null,
      "metadata": {
        "collapsed": false
      },
      "outputs": [],
      "source": [
        "import numpy as np\n\n# Import the FOOOF object\nfrom fooof import FOOOF"
      ]
    },
    {
      "cell_type": "code",
      "execution_count": null,
      "metadata": {
        "collapsed": false
      },
      "outputs": [],
      "source": [
        "# Load example data to use for this tutorial (a single example power spectrum)\nfreqs = np.load('dat/freqs.npy')\nspectrum = np.load('dat/spectrum.npy')"
      ]
    },
    {
      "cell_type": "markdown",
      "metadata": {},
      "source": [
        "FOOOF Object\n------------\n\nFooof is an object oriented module.\n\nAt the core of the module is the FOOOF object, which holds relevant data and settings as attributes, and procedures to run the FOOOF algorithm as methods.\n\nThe organization is similar to sklearn:\n\n- A model object is initialized, with relevant settings\n- The model is used to fit the data\n- Results can be extracted from the object\n\n"
      ]
    },
    {
      "cell_type": "markdown",
      "metadata": {},
      "source": [
        "FOOOF Example\n-------------\n\n"
      ]
    },
    {
      "cell_type": "code",
      "execution_count": null,
      "metadata": {
        "collapsed": false
      },
      "outputs": [],
      "source": [
        "# Initialize FOOOF model\nfm = FOOOF()\n\n# Set the frequency range upon which to fit FOOOF\nfreq_range = [2, 40]\n\n# Run FOOOF model - calculates model, plots, and prints results\nfm.report(freqs, spectrum, freq_range)"
      ]
    },
    {
      "cell_type": "markdown",
      "metadata": {},
      "source": [
        "FOOOF Report\n~~~~~~~~~~~~\n\nThe above method 'report', is a convenience method that calls a series of FOOOF methods:\n\n- :func:`fit`:  fits the FOOOF model\n- :func:`print_results`: prints out the results, in string form\n- :func:`plot`: plots to data and model fit\n\nEach of these methods ('fit', 'print_results' and 'plot') can each be called individually.\n\n"
      ]
    },
    {
      "cell_type": "code",
      "execution_count": null,
      "metadata": {
        "collapsed": false
      },
      "outputs": [],
      "source": [
        "# Alternatively, just fit the model with FOOOF.fit() (without any printing)\nfm.fit(freqs, spectrum, freq_range)\n\n# After fitting, plotting and parameter fitting can be called independently:\n# fm.print_results()\n# fm.plot()"
      ]
    },
    {
      "cell_type": "markdown",
      "metadata": {},
      "source": [
        "FOOOF Results\n~~~~~~~~~~~~~\n\nWhen the FOOOF model is calculated, the model fit parameters are stored as object attributes that can be accessed after fitting.\n\nFollowing the sklearn convention, attributes that are fit as a result of the model have a trailing underscore:\n\n- background\\_params_\n- peak\\_params_\n- error\\_\n- r2\\_\n\n"
      ]
    },
    {
      "cell_type": "markdown",
      "metadata": {},
      "source": [
        "Access model fit parameters from FOOOF object, after fitting\n\n"
      ]
    },
    {
      "cell_type": "code",
      "execution_count": null,
      "metadata": {
        "collapsed": false
      },
      "outputs": [],
      "source": [
        "# Aperiodic 'background' parameters\nprint('Aperiodic signal (background) parameters: \\n', fm.background_params_, '\\n')\n\n# Peak parameters\nprint('Peak parameters: \\n', fm.peak_params_, '\\n')\n\n# Goodness of fit measures\nprint('Goodness of fit:')\nprint(' Error - ', fm.error_)\nprint(' R^2   - ', fm.r_squared_)"
      ]
    },
    {
      "cell_type": "markdown",
      "metadata": {},
      "source": [
        "Notes on Interpreting Peak Parameters\n-------------------------------------\n\nNote that the peak parameters that are returned are not exactly the same as the parameters of the Gaussians used internally to fit the peaks.\n\nSpecifically:\n\n- CF is the mean parameter of the Gaussian (same as the Gaussian)\n- Amp is the amplitude of the model fit above the aperiodic signal fit [1], which is not necessarily the same as the Gaussian amplitude\n- BW is 2 * the standard deviation of the Gaussian [2]\n\n[1] Since the Gaussians are fit together, if any Gaussians overlap, than the actual height of the fit at a given point can only be assessed when considering all Gaussians. To be better able to interpret amplitudes for single peak fits, we re-define the peak amplitude as above.\n\n[2] Standard deviation is '1 sided', returned BW is '2 sided'.\n\n"
      ]
    },
    {
      "cell_type": "markdown",
      "metadata": {},
      "source": [
        "The underlying gaussian parameters are also availabe from the FOOOF object\nfm._gaussian_params\n\n"
      ]
    },
    {
      "cell_type": "markdown",
      "metadata": {},
      "source": [
        "Compare the 'peak\\_params_', as compared to the underlying gaussian parameters\n\n"
      ]
    },
    {
      "cell_type": "code",
      "execution_count": null,
      "metadata": {
        "collapsed": false
      },
      "outputs": [],
      "source": [
        "print('  Peak Parameters \\t Gaussian Parameters')\nfor peak, gau in zip(fm.peak_params_, fm._gaussian_params):\n    print('{:5.2f} {:5.2f} {:5.2f} \\t {:5.2f} {:5.2f} {:5.2f}'.format(*peak, *gau))"
      ]
    },
    {
      "cell_type": "markdown",
      "metadata": {},
      "source": [
        "FOOOFResults object\n~~~~~~~~~~~~~~~~~~~\n\nFOOOF also has a convenience method to return all model fit results: get_results().\n\nIt returns all the model fit parameters, including the underlying Gaussian parameters.\n\nGet parameters actually collects and returns these results as a FOOOFResults object (a named tuple), to keep data organized, and allow for easier collecting.\n\n"
      ]
    },
    {
      "cell_type": "code",
      "execution_count": null,
      "metadata": {
        "collapsed": false
      },
      "outputs": [],
      "source": [
        "# Grab each model fit result with convenience method to gather all results\nbg_params, peak_params, r_squared, fit_error, gauss_params = fm.get_results()\n\n# Get results actually returns a FOOOFResult object (a named tuple)\nfres = fm.get_results()"
      ]
    },
    {
      "cell_type": "code",
      "execution_count": null,
      "metadata": {
        "collapsed": false
      },
      "outputs": [],
      "source": [
        "# Print out the FOOOFResults\nprint(fres, '\\n')\n\n# From FOOOFResults, you can access the different results\nprint('Aperiodic Signal (Background) Parameters: \\n', fres.background_params)\n\n\n# Check the r^2 and error of the model fit\nprint('R-squared: \\n {:5.4f}'.format(fm.r_squared_))\nprint('Fit error: \\n {:5.4f}'.format(fm.error_))"
      ]
    },
    {
      "cell_type": "markdown",
      "metadata": {},
      "source": [
        "Description of FOOOF methods and parameters\n-------------------------------------------\n\nFOOOF follows the following Python conventions:\n    - all user exposed settings, data, and methods are directly accessible through the object\n    - 'hidden' (internal) settings and methods ones have a leading underscore\n\nThe FOOOF object contents consist of 4 main components (groups of data / code):\n\n- Settings (attributes)\n    - User exposed settings are all set in object initialization.\n        - peak_width_limits, max_n_peaks, min_peak_amplitude, peak_threshold, background_mode, verbose\n    - There are some internal settings that are not exposed at initialization. These settings are unlikely to need to be accessed by the user, but can be if desired - they are  all defined and documented in \\__init\\__ (there should be no other settings, or 'magic numbers' in any other parts of the code).\n- Data (attributes)\n    - FOOOF stores the frequency vector, power spectrum, frequency range, and frequency resolution.\n        - fm.freqs, fm.power_spectrum, fm.freq_range, fm.freq_res\n    - During the fit procedure, interim (hidden) data variables are also created and used\n- Results (attributes)\n    - FOOOF follows the scipy convention in that any attributes that result from fitting to the data are indicated by a trailing underscore\n        - fm.background\\_params_, fm.peak\\_params\\_, fm.fooofed\\_spectrum\\_, fm.r\\_squared\\_, fm.error\\_\n- Functions (methods)\n    - Functions that operate on the FOOOF object data.\n    - In addition to the exposed methods, there are some internal methods called in the fitting procedure. These methods should not be called independently, as they may depend on internal state as defined from other methods.\n\n"
      ]
    },
    {
      "cell_type": "markdown",
      "metadata": {},
      "source": [
        "You can check all the user defined FOOOF settings with check_settings\n The description parameter here is set to print out descriptions of the settings\n\n"
      ]
    },
    {
      "cell_type": "code",
      "execution_count": null,
      "metadata": {
        "collapsed": false
      },
      "outputs": [],
      "source": [
        "fm.print_settings(description=True)"
      ]
    },
    {
      "cell_type": "markdown",
      "metadata": {},
      "source": [
        "Fitting FOOOF with Different Settings\n-------------------------------------\n\n"
      ]
    },
    {
      "cell_type": "code",
      "execution_count": null,
      "metadata": {
        "collapsed": false
      },
      "outputs": [],
      "source": [
        "# Load example data - a different power spectrum\nfreqs = np.load('dat/freqs_2.npy')\nspectrum = np.load('dat/spectrum_2.npy')"
      ]
    },
    {
      "cell_type": "code",
      "execution_count": null,
      "metadata": {
        "collapsed": false
      },
      "outputs": [],
      "source": [
        "# Initialize FOOOF model, with different settings\nfm = FOOOF(peak_width_limits=[1, 8], max_n_peaks=6, min_peak_amplitude=0.15)\n\n# Fit FOOOF\nf_range = [2, 40]\nfm.report(freqs, spectrum, f_range)"
      ]
    },
    {
      "cell_type": "markdown",
      "metadata": {},
      "source": [
        "Updating Settings\n-----------------\n\nIf you wish to change these settings, then you should re-initialize the FOOOF object with new settings.\n\nSimply resetting the relevant attribute may not appropriately propragate the value, and may fail (either by erroring out, or not applying the settings properly during fit and returning erroneous results).\n\n"
      ]
    },
    {
      "cell_type": "markdown",
      "metadata": {},
      "source": [
        "Fitting FOOOF with Background 'Knee'\n~~~~~~~~~~~~~~~~~~~~~~~~~~~~~~~~~~~~\n\n"
      ]
    },
    {
      "cell_type": "code",
      "execution_count": null,
      "metadata": {
        "collapsed": false
      },
      "outputs": [],
      "source": [
        "# Load example data (LFP)\nfreqs = np.load('dat/freqs_lfp.npy')\nspectrum = np.load('dat/spectrum_lfp.npy')\n\n# Initialize FOOOF - setting to aperiodic / background mode to use a knee fit\nfm = FOOOF(peak_width_limits=[2, 8], background_mode='knee')\n\n# Fit FOOOF model\n#  Note that this time we're specifying an optional parameter to plot in log-log\nfm.report(freqs, spectrum, [2, 60], plt_log=True)"
      ]
    },
    {
      "cell_type": "markdown",
      "metadata": {},
      "source": [
        "A note on interpreting the \"knee\" parameter\n-------------------------------------------\n\nThe aperiodic fit has the form:\n\n\\begin{align}BG = 10^b * \\ \\frac{1}{(k + F^\\chi)}\\end{align}\n\nThe knee parameter reported above corresponds to `k` in the equation.\n\nThis parameter is dependent on the frequency at which the aperiodic fit transitions from horizontal to negatively sloped.\n\nTo interpret this parameter as a frequency, take the $\\chi$-th root of `k`, i.e.:\n\n\\begin{align}knee \\ frequency = k^{1/\\ \\chi}\\end{align}\n\n"
      ]
    },
    {
      "cell_type": "markdown",
      "metadata": {},
      "source": [
        "FOOOF - Saving & Reports\n------------------------\n\nFOOOF also has report for saving out, and loading back in, data.\n\nYou have the option to specify which data to save.\n\n- results: model fit results (same as is returned in FOOOFResult)\n- settings: all public settings (everything available at initialization)\n- data: freqs & power spectrum\n\nFOOOF save creates JSON files. You can specify a file name to save or append to, or pass in a valid JSON file object.\n\n"
      ]
    },
    {
      "cell_type": "code",
      "execution_count": null,
      "metadata": {
        "collapsed": false
      },
      "outputs": [],
      "source": [
        "# Saving FOOOF results, settings, and data\nfm.save(save_results=True, save_settings=True, save_data=True)"
      ]
    },
    {
      "cell_type": "code",
      "execution_count": null,
      "metadata": {
        "collapsed": false
      },
      "outputs": [],
      "source": [
        "# Loading FOOOF results\nnfm = FOOOF()\nnfm.load()\n\n# Plot loaded results\n#   Note: plot log to match the plot from above\nnfm.plot(plt_log=True)"
      ]
    },
    {
      "cell_type": "markdown",
      "metadata": {},
      "source": [
        "Create a Report\n---------------\n\nFOOOF also has functionality to save out a 'report' of a particular model fit.\n\nThis generates and saves a PDF which contains the same output as 'print_results', 'plot', and 'print_settings'.\n\n"
      ]
    },
    {
      "cell_type": "code",
      "execution_count": null,
      "metadata": {
        "collapsed": false
      },
      "outputs": [],
      "source": [
        "# Save out a report of the current FOOOF model fit & results\n#  By default (with no inputs) this saves a PDF to current directory, with the name 'FOOOF_Report'\n#    Add inputs to the method call to specify a file-name, and save-location\nfm.save_report()\n\n# Check what the generated report looks like\nfrom IPython.display import IFrame\nIFrame(\"FOOOF_Report.pdf\", width=950, height=1200)"
      ]
    }
  ],
  "metadata": {
    "kernelspec": {
      "display_name": "Python 3",
      "language": "python",
      "name": "python3"
    },
    "language_info": {
      "codemirror_mode": {
        "name": "ipython",
        "version": 3
      },
      "file_extension": ".py",
      "mimetype": "text/x-python",
      "name": "python",
      "nbconvert_exporter": "python",
      "pygments_lexer": "ipython3",
      "version": "3.6.6"
    }
  },
  "nbformat": 4,
  "nbformat_minor": 0
}